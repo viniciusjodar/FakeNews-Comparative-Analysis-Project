{
 "cells": [
  {
   "cell_type": "markdown",
   "id": "c0c06858",
   "metadata": {},
   "source": [
    "# Project NLP"
   ]
  },
  {
   "cell_type": "code",
   "execution_count": null,
   "id": "2cd74352",
   "metadata": {},
   "outputs": [],
   "source": [
    "import pandas as pd \n",
    "import numpy as np  \n",
    "import sklearn\n",
    "from sklearn.model_selection import train_test_split\n",
    "from sklearn.feature_extraction.text import CountVectorizer, TfidfVectorizer, TfidfTransformer\n",
    "from sklearn.pipeline import Pipeline\n",
    "from sklearn.linear_model import LogisticRegression\n",
    "from sklearn.ensemble import RandomForestClassifier, VotingClassifier\n",
    "from sklearn.metrics import accuracy_score, classification_report\n",
    "from sklearn.naive_bayes import MultinomialNB\n",
    "from sklearn.feature_extraction.text import TfidfVectorizer\n",
    "import torch\n",
    "from sklearn.feature_extraction.text import TfidfVectorizer"
   ]
  },
  {
   "cell_type": "code",
   "execution_count": null,
   "id": "d3500539",
   "metadata": {},
   "outputs": [],
   "source": [
    "train_df = pd.read_csv('training_data.csv', sep=\"\\t\", header=None, names=['label', 'headline'])\n",
    "X = train_df['headline']\n",
    "y = train_df['label']   \n",
    "print(train_df.head())\n",
    "print(train_df.columns)"
   ]
  },
  {
   "cell_type": "code",
   "execution_count": null,
   "id": "a5a4090c",
   "metadata": {},
   "outputs": [],
   "source": [
    "X_train, X_val, y_train, y_val= train_test_split(X, y, test_size=0.2, random_state=42)"
   ]
  },
  {
   "cell_type": "code",
   "execution_count": null,
   "id": "002b4801",
   "metadata": {},
   "outputs": [],
   "source": [
    "vectoraizer = TfidfVectorizer(stop_words='english', max_features=5000)\n",
    "X_train_tfidf = vectoraizer.fit_transform(X_train)\n",
    "X_val_tfidf = vectoraizer.transform(X_val)"
   ]
  },
  {
   "cell_type": "code",
   "execution_count": null,
   "id": "b995945f",
   "metadata": {},
   "outputs": [],
   "source": [
    "clf = LogisticRegression(max_iter=1000)\n",
    "clf.fit(X_train_tfidf, y_train)\n"
   ]
  },
  {
   "cell_type": "code",
   "execution_count": null,
   "id": "b118e0ec",
   "metadata": {},
   "outputs": [],
   "source": [
    "y_pred = clf.predict(X_val_tfidf)\n",
    "print(f\"Accuracy:\", accuracy_score(y_val, y_pred))\n",
    "print(\"Classification Report:\\n\", classification_report(y_val, y_pred))"
   ]
  },
  {
   "cell_type": "code",
   "execution_count": null,
   "id": "152755fe",
   "metadata": {},
   "outputs": [],
   "source": [
    "train_df"
   ]
  },
  {
   "cell_type": "code",
   "execution_count": null,
   "id": "97d5e2e8",
   "metadata": {},
   "outputs": [],
   "source": [
    "test_df = pd.read_csv('testing_data.csv', sep=\"\\t\", header=None, names=['label', 'headline'])\n",
    "X_test = test_df['headline']\n",
    "X_test_tfidf = vectoraizer.transform(X_test)\n",
    "y_test_pred = clf.predict(X_test_tfidf)\n"
   ]
  },
  {
   "cell_type": "code",
   "execution_count": null,
   "id": "4279f1ac",
   "metadata": {},
   "outputs": [],
   "source": [
    "# 3. Initialize the pre-trained model pipeline\n",
    "from transformers import pipeline\n",
    "classifier = pipeline(\"text-classification\", model=\"jy46604790/Fake-News-Bert-Detect\", truncation=True)\n",
    "\n",
    "# 4. Run predictions ONLY on the validation headlines\n",
    "print(\"Running predictions on the validation set...\")\n",
    "preds = []\n",
    "for text in X_val:\n",
    "    result = classifier(text)[0]\n",
    "    label = 1 if result['label'] == 'LABEL_1' else 0\n",
    "    preds.append(label)\n",
    "\n",
    "# 5. Calculate the validation accuracy for the pre-trained model\n",
    "acc = accuracy_score(y_val, preds)\n",
    "print(f\"\\nValidation Accuracy for Pre-trained BERT Model: {acc:.4f}\")"
   ]
  },
  {
   "cell_type": "code",
   "execution_count": null,
   "id": "f08445a6",
   "metadata": {},
   "outputs": [],
   "source": [
    "#replace '2' the label column with predicted values\n",
    "test_df['label'] = y_test_pred"
   ]
  },
  {
   "cell_type": "code",
   "execution_count": null,
   "id": "01f09bee",
   "metadata": {},
   "outputs": [],
   "source": [
    "test_df.to_csv('predicted_test_data.csv', index=False)\n",
    "print(\"Predictions saved to 'predicted_test_data.csv'\")"
   ]
  },
  {
   "cell_type": "code",
   "execution_count": null,
   "id": "3891eb82",
   "metadata": {},
   "outputs": [],
   "source": [
    "#Exploring models\n",
    "models = {\n",
    "    \"Logistic Regression\": LogisticRegression(max_iter=1000),\n",
    "    \"Naive Bayes\": MultinomialNB(),\n",
    "    \"Random Forest\": RandomForestClassifier(n_estimators=200, random_state=42, n_jobs=-1)\n",
    "}\n",
    "\n",
    "# Ensemble (VotingClassifier: majority vote)\n",
    "ensemble = VotingClassifier(\n",
    "    estimators=[\n",
    "        ('lr', LogisticRegression(max_iter=1000)),\n",
    "        ('nb', MultinomialNB()),\n",
    "        ('rf', RandomForestClassifier(n_estimators=200, random_state=42, n_jobs=-1))\n",
    "    ],\n",
    "    voting='hard'\n",
    ")\n",
    "\n",
    "models[\"Ensemble\"] = ensemble"
   ]
  },
  {
   "cell_type": "code",
   "execution_count": null,
   "id": "eaa03b64",
   "metadata": {},
   "outputs": [],
   "source": [
    "for name, model in models.items():\n",
    "    model.fit(X_train_tfidf, y_train)\n",
    "    y_pred = model.predict(X_val_tfidf)\n",
    "    print(f\"{name} Accuracy:\", accuracy_score(y_val, y_pred))\n",
    "    print(\" Classification Report:\\n\", classification_report(y_val, y_pred))"
   ]
  },
  {
   "cell_type": "code",
   "execution_count": null,
   "id": "c79d0d66",
   "metadata": {},
   "outputs": [],
   "source": [
    "best_model = models[\"Ensemble\"]  # changed after comparing above validation accuracy\n",
    "best_model.fit(vectoraizer.transform(X), y)  # retrain on full training set"
   ]
  },
  {
   "cell_type": "code",
   "execution_count": null,
   "id": "b19ef6e9",
   "metadata": {},
   "outputs": [],
   "source": [
    "X_test = test_df[\"headline\"]\n",
    "X_test_tfidf = vectoraizer.transform(X_test)\n",
    "y_test_pred = best_model.predict(X_test_tfidf)\n",
    "\n",
    "# Replace labels with predictions\n",
    "test_df[\"label\"] = y_test_pred\n",
    "\n",
    "# Save predictions (keep tab format, no header)\n",
    "test_df.to_csv(\"testing_predictions.csv\", index=False)\n",
    "print(\"Predictions saved to testing_predictions_v2.csv\")"
   ]
  },
  {
   "cell_type": "code",
   "execution_count": null,
   "id": "1bb1063b",
   "metadata": {},
   "outputs": [],
   "source": [
    "from transformers import pipeline\n",
    "MODEL = \"jy46604790/Fake-News-Bert-Detect\"\n",
    "clf = pipeline(\"text-classification\", model=MODEL, tokenizer=MODEL)"
   ]
  },
  {
   "cell_type": "code",
   "execution_count": null,
   "id": "bbac908a",
   "metadata": {},
   "outputs": [],
   "source": [
    "# 1. Exploring pretrained models with Transformer pipeline\n",
    "df = pd.read_csv(\"../dataset/testing_predictions.csv\", sep=\",\", header=None, names=[\"label\", \"headline\"])\n",
    "\n",
    "df.head(20)"
   ]
  },
  {
   "cell_type": "code",
   "execution_count": null,
   "id": "6d0aecb7",
   "metadata": {},
   "outputs": [],
   "source": [
    "from sklearn.metrics import accuracy_score\n",
    "\n",
    "# 1) Run predictions on the TEST split\n",
    "texts = test_df[\"headline\"].astype(str).tolist()\n",
    "\n",
    "# You can do it in batch (faster and safer)\n",
    "results = classifier(texts, truncation=True)\n",
    "\n",
    "# Map model labels to 0/1 as you expect\n",
    "def to01(r):\n",
    "    # adjust these names if your model outputs different labels\n",
    "    return 1 if r[\"label\"] == \"LABEL_1\" or r[\"label\"] == \"FAKE\" else 0\n",
    "\n",
    "preds = [to01(r) for r in results]\n",
    "\n",
    "# 2) Check lengths before scoring\n",
    "print(\"len preds:\", len(preds), \"len truth:\", len(test_df))\n",
    "\n",
    "# 3) Accuracy\n",
    "acc = accuracy_score(test_df[\"label\"].values, preds)\n",
    "print(f\"Accuracy: {acc:.2f}\")\n"
   ]
  },
  {
   "cell_type": "code",
   "execution_count": null,
   "id": "1883304d",
   "metadata": {},
   "outputs": [],
   "source": [
    "import pandas as pd\n",
    "from datasets import Dataset\n",
    "from transformers import AutoTokenizer\n",
    "# 1. Load your data with pandas\n",
    "train_df = pd.read_csv(\"training_data.csv\", sep=\"\\t\", header=None, names=[\"label\", \"headline\"])\n",
    "\n",
    "# 2. Split your data\n",
    "# We create full dataframes for easy conversion to Datasets\n",
    "train_data, val_data = train_test_split(train_df, test_size=0.2, random_state=42, stratify=train_df['label'])\n",
    "\n",
    "# 3. Convert pandas DataFrames to Hugging Face Dataset objects\n",
    "train_dataset = Dataset.from_pandas(train_data)\n",
    "val_dataset = Dataset.from_pandas(val_data)\n",
    "\n",
    "# 4. Load the correct tokenizer\n",
    "model_name = \"jy46604790/Fake-News-Bert-Detect\"\n",
    "tokenizer = AutoTokenizer.from_pretrained(model_name)\n",
    "\n",
    "# 5. Define the tokenization function\n",
    "# Make sure the key matches your column name ('headline')\n",
    "def tokenize_function(examples):\n",
    "    return tokenizer(examples['headline'], padding=\"max_length\", truncation=True, max_length=128)\n",
    "\n",
    "# 6. Apply the tokenizer using the correct .map() method\n",
    "# Now this will work because train_dataset is a Dataset object\n",
    "tokenized_train = train_dataset.map(tokenize_function, batched=True)\n",
    "tokenized_val = val_dataset.map(tokenize_function, batched=True)\n",
    "\n",
    "# You can now proceed to load your model and use the Trainer API with\n",
    "# tokenized_train and tokenized_val.\n",
    "print(\"Tokenization successful!\")\n",
    "print(tokenized_train)"
   ]
  },
  {
   "cell_type": "code",
   "execution_count": null,
   "id": "cd84d77f",
   "metadata": {},
   "outputs": [],
   "source": [
    "from transformers import AutoModelForSequenceClassification\n",
    "model = AutoModelForSequenceClassification.from_pretrained(\"jy46604790/Fake-News-Bert-Detect\", num_labels=2)\n",
    "from sklearn.metrics import precision_recall_fscore_support\n",
    "def compute_metrics(pred):\n",
    "    predictions, labels = pred\n",
    "    preds = predictions.argmax(axis=1)\n",
    "    precision, recall, f1, _ = precision_recall_fscore_support(labels, preds, average='binary')\n",
    "    acc = accuracy_score(labels, preds)\n",
    "    return {\"accuracy\": acc, \"precision\": precision, \"recall\": recall, \"f1\": f1}"
   ]
  },
  {
   "cell_type": "code",
   "execution_count": null,
   "id": "5eee0add",
   "metadata": {},
   "outputs": [],
   "source": [
    "import sys, os, inspect, transformers\n",
    "from transformers import TrainingArguments\n",
    "\n",
    "print(\"transformers version:\", transformers.__version__)\n",
    "print(\"python exe:\", sys.executable)\n",
    "print(\"transformers file:\", transformers.__file__)\n",
    "print(\"TA module:\", TrainingArguments.__module__)\n",
    "print(\"TA has evaluation_strategy?:\", \"evaluation_strategy\" in str(inspect.signature(TrainingArguments.__init__)))\n",
    "\n",
    "# vê se existe algum arquivo/pasta local chamado 'transformers*' que possa estar sombreando\n",
    "print(\"local shadows:\", [p for p in os.listdir() if p.lower().startswith(\"transformers\")])\n"
   ]
  },
  {
   "cell_type": "code",
   "execution_count": null,
   "id": "d22b6936",
   "metadata": {},
   "outputs": [],
   "source": [
    "from transformers import TrainingArguments, Trainer\n",
    "training_args = TrainingArguments(\n",
    "    output_dir=\"./results\",\n",
    "    eval_strategy=\"epoch\",\n",
    "    learning_rate=2e-5,\n",
    "    per_device_train_batch_size=16,\n",
    "    per_device_eval_batch_size=16,\n",
    "    num_train_epochs=3,\n",
    "    weight_decay=0.1,\n",
    "    save_strategy=\"epoch\",\n",
    "    logging_dir=\"./logs\",\n",
    "    logging_strategy=\"steps\",\n",
    "    logging_steps=50,\n",
    "    load_best_model_at_end=True,\n",
    "    metric_for_best_model=\"accuracy\",\n",
    "    report_to=\"none\",\n",
    ")\n",
    "trainer = Trainer(\n",
    "    model=model,\n",
    "    args=training_args,\n",
    "    train_dataset=tokenized_train,\n",
    "    eval_dataset=tokenized_val,\n",
    "    tokenizer=tokenizer,\n",
    "    compute_metrics=compute_metrics,\n",
    ")"
   ]
  },
  {
   "cell_type": "code",
   "execution_count": null,
   "id": "c5842a08",
   "metadata": {},
   "outputs": [],
   "source": [
    "trainer.train()"
   ]
  },
  {
   "cell_type": "code",
   "execution_count": null,
   "id": "9063f64c",
   "metadata": {},
   "outputs": [],
   "source": [
    "# 1. Evaluate model BEFORE fine-tuning\n",
    "print(\"\\n Evaluating the model BEFORE fine-tuning\")\n",
    "eval_results_before = trainer.evaluate(eval_dataset=tokenized_val)\n",
    "accuracy_before = eval_results_before[\"eval_accuracy\"]\n",
    "\n",
    "# 2. Fine-tuning (você já fez isso antes com trainer.train())\n",
    "\n",
    "# 3. Evaluate model AFTER fine-tuning\n",
    "print(\"\\n Evaluating the model AFTER fine-tuning\")\n",
    "eval_results_after = trainer.evaluate(eval_dataset=tokenized_val)\n",
    "accuracy_after = eval_results_after[\"eval_accuracy\"]\n",
    "\n",
    "# 4. Final Comparison\n",
    "print(\"\\n-- Performance Comparison --\")\n",
    "print(f\"Accuracy BEFORE Fine-Tuning: {accuracy_before:.2f}\")\n",
    "print(f\"Accuracy AFTER Fine-Tuning:  {accuracy_after:.2f}\")\n"
   ]
  }
 ],
 "metadata": {
  "kernelspec": {
   "display_name": "Python 3.12 (.nlp-env)",
   "language": "python",
   "name": "nlp-env"
  },
  "language_info": {
   "codemirror_mode": {
    "name": "ipython",
    "version": 3
   },
   "file_extension": ".py",
   "mimetype": "text/x-python",
   "name": "python",
   "nbconvert_exporter": "python",
   "pygments_lexer": "ipython3",
   "version": "3.12.3"
  }
 },
 "nbformat": 4,
 "nbformat_minor": 5
}
